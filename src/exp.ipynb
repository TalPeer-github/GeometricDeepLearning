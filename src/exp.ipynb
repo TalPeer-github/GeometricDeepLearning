{
 "cells": [
  {
   "cell_type": "code",
   "execution_count": 4,
   "outputs": [],
   "source": [
    "from datasets_class.CustomGraphDataset import CustomGraphDataset, Graph\n",
    "import viz \n",
    "import torch\n",
    "from torch_geometric.data import Data"
   ],
   "metadata": {
    "collapsed": false,
    "ExecuteTime": {
     "end_time": "2024-11-30T16:26:19.257435900Z",
     "start_time": "2024-11-30T16:26:19.246347600Z"
    }
   },
   "id": "initial_id"
  },
  {
   "cell_type": "code",
   "execution_count": 5,
   "outputs": [
    {
     "name": "stdout",
     "output_type": "stream",
     "text": [
      "<class 'datasets_class.CustomGraphDataset.CustomGraphDataset'>\n",
      "Loaded data: CustomGraphDataset(19)\n"
     ]
    }
   ],
   "source": [
    "path = '../data/test.pt'\n",
    "train_data = torch.load(path)\n",
    "\n",
    "print(type(train_data))  \n",
    "if isinstance(train_data, dict):\n",
    "    print(\"Keys:\", train_data.keys()) \n",
    "else:\n",
    "    print(\"Loaded data:\", train_data)\n"
   ],
   "metadata": {
    "collapsed": false,
    "ExecuteTime": {
     "end_time": "2024-11-30T16:26:20.537987900Z",
     "start_time": "2024-11-30T16:26:20.509677800Z"
    }
   },
   "id": "7500ce5589389109"
  },
  {
   "cell_type": "code",
   "execution_count": 6,
   "outputs": [
    {
     "name": "stdout",
     "output_type": "stream",
     "text": [
      "Data(edge_index=[2, 38], x=[17, 7], edge_attr=[38, 4])\n"
     ]
    },
    {
     "ename": "AttributeError",
     "evalue": "'NoneType' object has no attribute 'numpy'",
     "output_type": "error",
     "traceback": [
      "\u001B[1;31m---------------------------------------------------------------------------\u001B[0m",
      "\u001B[1;31mAttributeError\u001B[0m                            Traceback (most recent call last)",
      "Cell \u001B[1;32mIn[6], line 3\u001B[0m\n\u001B[0;32m      1\u001B[0m \u001B[38;5;28;01mfor\u001B[39;00m i \u001B[38;5;129;01min\u001B[39;00m \u001B[38;5;28mrange\u001B[39m(\u001B[38;5;28mlen\u001B[39m(train_data)):\n\u001B[0;32m      2\u001B[0m     \u001B[38;5;28mprint\u001B[39m(train_data[i])\n\u001B[1;32m----> 3\u001B[0m     label \u001B[38;5;241m=\u001B[39m \u001B[43mtrain_data\u001B[49m\u001B[43m[\u001B[49m\u001B[43mi\u001B[49m\u001B[43m]\u001B[49m\u001B[38;5;241;43m.\u001B[39;49m\u001B[43my\u001B[49m\u001B[38;5;241;43m.\u001B[39;49m\u001B[43mnumpy\u001B[49m()\u001B[38;5;241m.\u001B[39mitem()\n\u001B[0;32m      4\u001B[0m     \u001B[38;5;28;01mif\u001B[39;00m label \u001B[38;5;241m==\u001B[39m \u001B[38;5;241m0\u001B[39m:\n\u001B[0;32m      5\u001B[0m         viz\u001B[38;5;241m.\u001B[39mvisualize_graph(train_data[i])\n",
      "\u001B[1;31mAttributeError\u001B[0m: 'NoneType' object has no attribute 'numpy'"
     ]
    }
   ],
   "source": [
    "for i in range(len(train_data)):\n",
    "    print(train_data[i])\n",
    "    label = train_data[i].y.numpy().item()\n",
    "    if label == 0:\n",
    "        viz.visualize_graph(train_data[i])"
   ],
   "metadata": {
    "collapsed": false,
    "ExecuteTime": {
     "end_time": "2024-11-30T16:26:22.975997Z",
     "start_time": "2024-11-30T16:26:22.808830300Z"
    }
   },
   "id": "1f6ff335e1485868"
  },
  {
   "cell_type": "code",
   "execution_count": null,
   "outputs": [],
   "source": [
    "t1 = train_data[1]\n",
    "viz.visualize_graph(t1)"
   ],
   "metadata": {
    "collapsed": false,
    "ExecuteTime": {
     "start_time": "2024-11-30T12:02:11.391078900Z"
    }
   },
   "id": "e3b9ea40b4fcfadf"
  }
 ],
 "metadata": {
  "kernelspec": {
   "display_name": "Python 3",
   "language": "python",
   "name": "python3"
  },
  "language_info": {
   "codemirror_mode": {
    "name": "ipython",
    "version": 2
   },
   "file_extension": ".py",
   "mimetype": "text/x-python",
   "name": "python",
   "nbconvert_exporter": "python",
   "pygments_lexer": "ipython2",
   "version": "2.7.6"
  }
 },
 "nbformat": 4,
 "nbformat_minor": 5
}
